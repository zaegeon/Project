{
  "nbformat": 4,
  "nbformat_minor": 0,
  "metadata": {
    "colab": {
      "name": "Plot.ipynb",
      "provenance": [],
      "collapsed_sections": [],
      "authorship_tag": "ABX9TyN0ILf494I5NqyBypWgpknu",
      "include_colab_link": true
    },
    "kernelspec": {
      "name": "python3",
      "display_name": "Python 3"
    },
    "language_info": {
      "name": "python"
    }
  },
  "cells": [
    {
      "cell_type": "markdown",
      "metadata": {
        "id": "view-in-github",
        "colab_type": "text"
      },
      "source": [
        "<a href=\"https://colab.research.google.com/github/zaegeon/Project/blob/main/Plot.ipynb\" target=\"_parent\"><img src=\"https://colab.research.google.com/assets/colab-badge.svg\" alt=\"Open In Colab\"/></a>"
      ]
    },
    {
      "cell_type": "code",
      "execution_count": null,
      "metadata": {
        "id": "uDu-nFw8ifTl"
      },
      "outputs": [],
      "source": [
        "# plot function\n",
        "def plot_cluster(arr, labels):\n",
        "    n = len(arr)\n",
        "    ncols = 10\n",
        "    nrows = int(np.ceil(n / ncols))\n",
        "    fig, ax = plt.subplots(nrows, ncols, figsize=(10, 10), constrained_layout=True)\n",
        "    for i in range(nrows):\n",
        "        for j in range(ncols):\n",
        "            idx = i * ncols + j\n",
        "            if idx < n:\n",
        "                img = arr[idx]\n",
        "                ax[i, j].imshow(img)\n",
        "            ax[i, j].axis('off')\n",
        "            if labels[idx] == 0:\n",
        "                ax[i, j].set_title('Normal')\n",
        "            elif labels[idx] == 1:\n",
        "                ax[i, j].set_title('Disease')\n",
        "    plt.show()"
      ]
    },
    {
      "cell_type": "code",
      "source": [
        "# Wrong Prediction plot\n",
        "def wrong_pred(X_tr, y_tr):\n",
        "    tr_pred = knn.predict(X_tr)\n",
        "    X_wrong = X_tr[tr_pred != y_tr]\n",
        "    y_wrong = y_tr[tr_pred != y_tr]\n",
        "    wrong_pred = tr_pred[tr_pred != y_tr]\n",
        "\n",
        "    fig, ax = plt.subplots(10, 10, figsize = (10, 10), constrained_layout=True)\n",
        "    for i in range(10):     # subplot의 row index를 0~9까지 반복\n",
        "        for j in range(10): # subplot의 column index를 0~9까지 반복\n",
        "            img = X_wrong[i * 10 + j].reshape((256, 256, 3))\n",
        "            ax[i, j].imshow(img, cmap='binary')\n",
        "            ax[i, j].axis('off')\n",
        "            if y_wrong[i * 10 + j] == 0:\n",
        "                ax[i, j].set_title('N / D')\n",
        "            else:\n",
        "                ax[i, j].set_title('D / N')\n",
        "\n",
        "    plt.show()"
      ],
      "metadata": {
        "id": "iOyHl8oqikNQ"
      },
      "execution_count": null,
      "outputs": []
    }
  ]
}