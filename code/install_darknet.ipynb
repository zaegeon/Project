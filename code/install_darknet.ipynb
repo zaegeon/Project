{
  "nbformat": 4,
  "nbformat_minor": 0,
  "metadata": {
    "colab": {
      "name": "install_darknet.ipynb",
      "provenance": [],
      "collapsed_sections": [],
      "authorship_tag": "ABX9TyMOmzsfnYy6fpeWsa9bCOPt",
      "include_colab_link": true
    },
    "kernelspec": {
      "name": "python3",
      "display_name": "Python 3"
    },
    "language_info": {
      "name": "python"
    }
  },
  "cells": [
    {
      "cell_type": "markdown",
      "metadata": {
        "id": "view-in-github",
        "colab_type": "text"
      },
      "source": [
        "<a href=\"https://colab.research.google.com/github/zaegeon/Project/blob/main/code/install_darknet.ipynb\" target=\"_parent\"><img src=\"https://colab.research.google.com/assets/colab-badge.svg\" alt=\"Open In Colab\"/></a>"
      ]
    },
    {
      "cell_type": "markdown",
      "source": [
        "# 1. GPU Setup"
      ],
      "metadata": {
        "id": "yyAx6pVYqs4D"
      }
    },
    {
      "cell_type": "markdown",
      "source": [
        "Menu > 'Runtime' > 'Change Runtime Type' > select 'GPU' as Hardware Accelator"
      ],
      "metadata": {
        "id": "1tvXUpHAqu_b"
      }
    },
    {
      "cell_type": "markdown",
      "source": [
        "# 2. Mount Google Drive"
      ],
      "metadata": {
        "id": "xTEPw9Igqw6q"
      }
    },
    {
      "cell_type": "code",
      "execution_count": null,
      "metadata": {
        "id": "UU7vIXu3qfDu"
      },
      "outputs": [],
      "source": [
        "from google.colab import drive\n",
        "drive.mount(\"/content/gdrive\")"
      ]
    },
    {
      "cell_type": "code",
      "source": [
        "!ls"
      ],
      "metadata": {
        "id": "_yMGRl0jqyab"
      },
      "execution_count": null,
      "outputs": []
    },
    {
      "cell_type": "markdown",
      "source": [
        "#3. Install CUDA related modules, cuDNN"
      ],
      "metadata": {
        "id": "XutMpP2Wq0qC"
      }
    },
    {
      "cell_type": "markdown",
      "source": [
        "Download cuDNN File https://developer.nvidia.com/rdp/cudnn-download\n",
        "\n",
        "Unzip the cuDNN from Google Drive to Colab /usr/local/cuda folder"
      ],
      "metadata": {
        "id": "obelGgDqq2xS"
      }
    },
    {
      "cell_type": "code",
      "source": [
        "!/usr/local/cuda/bin/nvcc --version"
      ],
      "metadata": {
        "id": "FUW-CYBiqzVz"
      },
      "execution_count": null,
      "outputs": []
    },
    {
      "cell_type": "code",
      "source": [
        "!tar -xzvf /content/gdrive/MyDrive/ColabNotebooks/darknet/cuDNN/cudnn-11.1-linux-x64-v8.0.4.30.tgz -C /usr/local/\n",
        "!chmod a+r /usr/local/cuda/include/cudnn.h"
      ],
      "metadata": {
        "id": "Rn03tM5Tq4J6"
      },
      "execution_count": null,
      "outputs": []
    },
    {
      "cell_type": "code",
      "source": [
        "!cat /usr/local/cuda/include/cudnn_version.h | grep CUDNN_MAJOR -A 2"
      ],
      "metadata": {
        "id": "BjtAxpxwq5Py"
      },
      "execution_count": null,
      "outputs": []
    },
    {
      "cell_type": "markdown",
      "source": [
        "#4. Install Darknet"
      ],
      "metadata": {
        "id": "DgE2Wvlkq8Hy"
      }
    },
    {
      "cell_type": "markdown",
      "source": [
        "DarkNet Install https://pjreddie.com/darknet/install"
      ],
      "metadata": {
        "id": "AzChGBxDq-GK"
      }
    },
    {
      "cell_type": "code",
      "source": [
        "!git clone https://github.com/AlexeyAB/darknet.git\n",
        "!ls"
      ],
      "metadata": {
        "id": "wCPoK3utq6US"
      },
      "execution_count": null,
      "outputs": []
    },
    {
      "cell_type": "code",
      "source": [
        "%cd /content/darknet/\n",
        "!sed -i 's/OPENCV=0/OPENCV=1/' Makefile\n",
        "!sed -i 's/GPU=0/GPU=1/' Makefile\n",
        "!sed -i 's/CUDNN=0/CUDNN=1/' Makefile\n",
        "!sed -i 's/CUDNN_HALF=0/CUDNN_HALF=1/' Makefile"
      ],
      "metadata": {
        "id": "m2D0XzhGq_lK"
      },
      "execution_count": null,
      "outputs": []
    },
    {
      "cell_type": "code",
      "source": [
        "!make"
      ],
      "metadata": {
        "id": "jQ8Ir_wzrA66"
      },
      "execution_count": null,
      "outputs": []
    },
    {
      "cell_type": "code",
      "source": [
        "import os\n",
        "if not os.path.exists('/content/gdrive/MyDrive/ColabNotebooks/darknet/bin'):\n",
        "    os.makedirs('/content/gdrive/MyDrive/ColabNotebooks/darknet/bin')"
      ],
      "metadata": {
        "id": "uTZROMrOrB8C"
      },
      "execution_count": null,
      "outputs": []
    },
    {
      "cell_type": "code",
      "source": [
        "%cp ./darknet /content/gdrive/MyDrive/ColabNotebooks/darknet/bin/darknet"
      ],
      "metadata": {
        "id": "YC2kgeYcrDhi"
      },
      "execution_count": null,
      "outputs": []
    },
    {
      "cell_type": "code",
      "source": [
        "# Use compiled darknet in your Google Drive after the first compile\n",
        "# 1. Makes a darknet directory\n",
        "#!mkdir darknet\n",
        "#%cd darknet\n",
        "\n",
        "# 2. Copy the darknet compiled version to the VM\n",
        "#!cp /content/gdrive/MyDrive/ColabNotebooks/darknet/bin/darknet ./darknet\n",
        "\n",
        "# 3. Set execution permissions\n",
        "# !chmod +x ./darknet"
      ],
      "metadata": {
        "id": "5xY1_gzxrEuS"
      },
      "execution_count": null,
      "outputs": []
    },
    {
      "cell_type": "code",
      "source": [
        "!cp -r \"/content/gdrive/MyDrive/ColabNotebooks/darknet/weights\" ./weights"
      ],
      "metadata": {
        "id": "fe9wUyoMrK1T"
      },
      "execution_count": null,
      "outputs": []
    },
    {
      "cell_type": "code",
      "source": [
        "%ls"
      ],
      "metadata": {
        "id": "LIAVXEh_rISi"
      },
      "execution_count": null,
      "outputs": []
    },
    {
      "cell_type": "code",
      "source": [
        "# Download Files\n",
        "def imShow(path):\n",
        "    %matplotlib inline\n",
        "\n",
        "    img = cv2.imread(path)\n",
        "    height, width = img.shape[:2]\n",
        "    resized_img = cv2.resize(img, (3 * width, 3 * height), interpolation = cv2.INTER_CUBIC)\n",
        "\n",
        "    fig = plt.gcf()\n",
        "    fig.set_size_inches(18, 10)\n",
        "    plt.axis('off')\n",
        "    #plt.rcParams['figure.figsize'] = [10, 5]\n",
        "    plt.imshow(cv2.cvtColor(resized_img, cv2.COLOR_BGR2RGB))\n",
        "    plt.show()\n",
        "\n",
        "def upload():\n",
        "    from google.colab import files\n",
        "    uploaded = file.upload()\n",
        "    for name, data in upload.items():\n",
        "        with open(name, 'wb') as f:\n",
        "            f.write(data)\n",
        "            print('saved file', name)\n",
        "\n",
        "def download(path):\n",
        "    from google.colab import files\n",
        "    files.download(path)"
      ],
      "metadata": {
        "id": "gRSZ35OUrKML"
      },
      "execution_count": null,
      "outputs": []
    }
  ]
}